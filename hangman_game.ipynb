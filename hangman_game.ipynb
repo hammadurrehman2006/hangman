{
  "nbformat": 4,
  "nbformat_minor": 0,
  "metadata": {
    "colab": {
      "provenance": [],
      "authorship_tag": "ABX9TyNYUn9Vh9nOR4m47yD/Wgcb",
      "include_colab_link": true
    },
    "kernelspec": {
      "name": "python3",
      "display_name": "Python 3"
    },
    "language_info": {
      "name": "python"
    }
  },
  "cells": [
    {
      "cell_type": "markdown",
      "metadata": {
        "id": "view-in-github",
        "colab_type": "text"
      },
      "source": [
        "<a href=\"https://colab.research.google.com/github/hammadurrehman2006/hangman/blob/main/hangman_game.ipynb\" target=\"_parent\"><img src=\"https://colab.research.google.com/assets/colab-badge.svg\" alt=\"Open In Colab\"/></a>"
      ]
    },
    {
      "cell_type": "code",
      "source": [
        "import random\n",
        "import string"
      ],
      "metadata": {
        "id": "pmpU3aaGeHPk"
      },
      "execution_count": null,
      "outputs": []
    },
    {
      "cell_type": "code",
      "source": [
        "common_words = [\n",
        "    \"apple\", \"about\", \"above\", \"acres\", \"actor\", \"admit\", \"adopt\", \"adult\", \"after\", \"again\",\n",
        "    \"agent\", \"agree\", \"ahead\", \"alarm\", \"album\", \"alert\", \"alike\", \"alive\", \"allow\", \"alone\",\n",
        "    \"along\", \"alter\", \"among\", \"anger\", \"angle\", \"angry\", \"apart\", \"apply\", \"arena\", \"argue\",\n",
        "    \"arise\", \"array\", \"aside\", \"asset\", \"audio\", \"avoid\", \"award\", \"aware\", \"badly\", \"baker\",\n",
        "    \"basic\", \"basis\", \"beach\", \"begin\", \"below\", \"bench\", \"bible\", \"birth\", \"blame\", \"blind\",\n",
        "    \"block\", \"blood\", \"board\", \"boost\", \"booth\", \"bound\", \"brain\", \"brave\", \"bread\", \"break\",\n",
        "    \"breed\", \"brief\", \"bring\", \"broad\", \"broken\", \"build\", \"built\", \"buyer\", \"cable\", \"calmly\",\n",
        "    \"canal\", \"carry\", \"catch\", \"cause\", \"cease\", \"chair\", \"chalk\", \"chart\", \"chase\", \"cheek\",\n",
        "    \"chest\", \"chief\", \"child\", \"china\", \"chose\", \"civil\", \"claim\", \"class\", \"clean\", \"clear\",\n",
        "    \"climb\", \"clock\", \"close\", \"cloth\", \"coast\", \"coffee\", \"coins\", \"color\", \"comedy\", \"comic\",\n",
        "    \"coming\", \"cover\", \"crack\", \"craft\", \"cream\", \"crime\", \"cross\", \"crowd\", \"crown\", \"curve\",\n",
        "    \"daily\", \"dance\", \"death\", \"debut\", \"delay\", \"depth\", \"diary\", \"drama\", \"dream\", \"dress\",\n",
        "    \"drink\", \"drive\", \"drops\", \"early\", \"earth\", \"eight\", \"elite\", \"empty\", \"enemy\", \"enjoy\",\n",
        "    \"enter\", \"equal\", \"error\", \"event\", \"every\", \"exact\", \"exist\", \"extra\", \"faith\", \"false\",\n",
        "    \"fault\", \"fiber\", \"field\", \"fifth\", \"fifty\", \"fight\", \"final\", \"first\", \"flame\", \"flash\",\n",
        "    \"fleet\", \"floor\", \"fluid\", \"focus\", \"force\", \"frame\", \"frank\", \"fresh\", \"front\", \"fruit\",\n",
        "    \"fully\", \"funny\", \"giant\", \"given\", \"glass\", \"globe\", \"going\", \"grace\", \"grade\", \"grand\",\n",
        "    \"grant\", \"grass\", \"great\", \"green\", \"group\", \"guard\", \"guess\", \"guide\", \"happy\", \"heart\",\n",
        "    \"heavy\", \"hello\", \"hence\", \"herbs\", \"highs\", \"horse\", \"hotel\", \"house\", \"human\", \"ideal\",\n",
        "    \"image\", \"index\", \"inner\", \"input\", \"issue\", \"joint\", \"judge\", \"juice\", \"keeps\", \"kinds\",\n",
        "    \"label\", \"large\", \"laser\", \"later\", \"laugh\", \"layer\", \"learn\", \"least\", \"leave\", \"legal\",\n",
        "    \"lemon\", \"level\", \"light\", \"limit\", \"links\", \"lions\", \"lives\", \"local\", \"logic\", \"loose\",\n",
        "    \"lower\", \"lucky\", \"lunch\", \"lying\", \"magic\", \"major\", \"maker\", \"marks\", \"match\", \"maybe\",\n",
        "    \"means\", \"metal\", \"meter\", \"might\", \"minor\", \"model\", \"money\", \"month\", \"moral\", \"motor\",\n",
        "    \"mount\", \"mouse\", \"mouth\", \"movie\", \"music\", \"needs\", \"never\", \"newly\", \"night\", \"noise\",\n",
        "    \"north\", \"noted\", \"nurse\", \"occur\", \"ocean\", \"offer\", \"often\", \"older\", \"olive\", \"order\",\n",
        "    \"organ\", \"other\", \"ought\", \"paint\", \"panel\", \"paper\", \"party\", \"peace\", \"phase\", \"phone\",\n",
        "    \"photo\", \"piece\", \"pilot\", \"pitch\", \"place\", \"plain\", \"plane\", \"plant\", \"plate\", \"point\",\n",
        "    \"power\", \"press\", \"price\", \"pride\", \"prime\", \"print\", \"prior\", \"prize\", \"proof\", \"proud\",\n",
        "    \"prove\", \"queen\", \"quick\", \"quiet\", \"radio\", \"raise\", \"range\", \"rapid\", \"ratio\", \"reach\",\n",
        "    \"ready\", \"refer\", \"relax\", \"reply\", \"report\", \"rests\", \"right\", \"rival\", \"river\", \"roads\",\n",
        "    \"rocks\", \"roles\", \"round\", \"route\", \"royal\", \"rural\", \"scale\", \"scene\", \"scope\", \"score\",\n",
        "    \"sense\", \"serve\", \"seven\", \"shake\", \"shall\", \"shape\", \"share\", \"sharp\", \"sheet\", \"shelf\",\n",
        "    \"shine\", \"ships\", \"shirt\", \"shock\", \"shoot\", \"short\", \"shown\", \"sides\", \"sight\", \"signs\",\n",
        "    \"since\", \"sixth\", \"sixty\", \"skirt\", \"sleep\", \"slide\", \"small\", \"smile\", \"smoke\", \"solid\",\n",
        "    \"solve\", \"sorry\", \"sound\", \"south\", \"space\", \"spare\", \"speak\", \"speed\", \"spend\", \"spent\",\n",
        "    \"split\", \"sport\", \"staff\", \"stage\", \"stake\", \"stand\", \"start\", \"state\", \"steam\", \"steel\",\n",
        "    \"stick\", \"still\", \"stock\", \"stone\", \"store\", \"storm\", \"story\", \"strip\", \"stuck\", \"study\",\n",
        "    \"stuff\", \"style\", \"sugar\", \"suite\", \"super\", \"sweet\", \"table\", \"taken\", \"taste\", \"taxes\",\n",
        "    \"teach\", \"teeth\", \"thank\", \"theft\", \"their\", \"theme\", \"there\", \"these\", \"thick\", \"thing\",\n",
        "    \"think\", \"third\", \"those\", \"three\", \"throw\", \"tight\", \"times\", \"tired\", \"title\", \"today\",\n",
        "    \"topic\", \"total\", \"touch\", \"tough\", \"tower\", \"track\", \"trade\", \"train\", \"treat\", \"trend\",\n",
        "    \"trial\", \"tried\", \"truth\", \"twice\", \"under\", \"union\", \"unity\", \"until\", \"upper\", \"upset\",\n",
        "    \"urban\", \"usage\", \"usual\", \"vague\", \"value\", \"video\", \"views\", \"villa\", \"visit\", \"vital\",\n",
        "    \"voice\", \"wages\", \"wagon\", \"waist\", \"waste\", \"watch\", \"water\", \"wheel\", \"where\", \"which\",\n",
        "    \"while\", \"white\", \"whole\", \"whose\", \"woman\", \"women\", \"world\", \"worry\", \"worse\", \"worst\",\n",
        "    \"worth\", \"would\", \"wound\", \"write\", \"wrong\", \"years\", \"yield\", \"young\", \"ability\", \"absent\",\n",
        "    \"accept\", \"accord\", \"across\", \"acting\", \"action\", \"active\", \"actual\", \"admire\", \"advice\",\n",
        "    \"affair\", \"affect\", \"against\", \"airport\", \"almond\", \"amused\", \"ancient\", \"anxious\", \"anyone\",\n",
        "    \"appeal\", \"approve\", \"arrive\", \"article\", \"attempt\", \"attract\", \"auction\", \"average\", \"backed\",\n",
        "    \"balance\", \"banking\", \"barrier\", \"battery\", \"bearing\", \"believe\", \"beneath\", \"benefit\",\n",
        "    \"besides\", \"between\", \"billion\", \"biology\", \"bitter\", \"blanket\", \"blessed\", \"blogger\",\n",
        "    \"boarding\", \"boiling\", \"borrow\", \"boundary\", \"branch\", \"breath\", \"bright\", \"brother\",\n",
        "    \"budget\", \"builder\", \"burning\", \"business\", \"caliber\", \"calming\", \"capable\", \"capital\",\n",
        "    \"captain\", \"capture\", \"careful\", \"carrier\", \"cartoon\", \"catalog\", \"causing\", \"central\",\n",
        "    \"century\", \"ceremony\", \"certain\", \"chamber\", \"channel\", \"chapter\", \"charity\", \"cheaper\",\n",
        "    \"cheating\", \"chemical\", \"chemist\", \"chicken\", \"childish\", \"choices\", \"chronic\", \"circuit\",\n",
        "    \"citizen\", \"classic\", \"climate\", \"closing\", \"clothes\", \"coconut\", \"collide\", \"collect\",\n",
        "    \"college\", \"combine\", \"comfort\", \"command\", \"comment\", \"compact\", \"company\", \"compare\",\n",
        "    \"compete\", \"complex\", \"compose\", \"concept\", \"concern\", \"concert\", \"conduct\", \"confess\",\n",
        "    \"connect\", \"consider\", \"contact\", \"contain\", \"content\", \"contest\", \"context\", \"control\",\n",
        "    \"convert\", \"convince\", \"cooking\", \"correct\", \"costume\", \"cottage\", \"council\", \"counter\",\n",
        "    \"country\", \"craving\", \"creator\", \"crimson\", \"critical\", \"culture\", \"current\", \"customer\",\n",
        "    \"damaged\", \"dancing\", \"dealers\", \"decades\", \"declare\", \"default\", \"defeat\", \"defects\",\n",
        "    \"defense\", \"degrees\", \"delight\", \"deliver\", \"density\", \"deposit\", \"deserve\", \"designs\",\n",
        "    \"desired\", \"destroy\", \"details\", \"develop\", \"diamond\", \"digital\", \"directs\", \"disable\",\n",
        "    \"discuss\", \"display\", \"distance\", \"divided\", \"dollars\", \"domestic\", \"doorway\", \"drawing\",\n",
        "    \"drivers\", \"dropped\", \"earning\", \"edition\", \"effects\", \"efforts\", \"elderly\", \"electric\",\n",
        "    \"element\", \"embrace\", \"emotion\", \"empire\", \"enabled\", \"enemies\", \"engines\", \"enlarge\",\n",
        "    \"enquiry\", \"entered\", \"episode\", \"equally\", \"escape\", \"essence\", \"evening\", \"evidence\",\n",
        "    \"exactly\", \"examine\", \"example\", \"excited\", \"exclude\", \"execute\", \"exercise\", \"experts\",\n",
        "    \"explain\", \"express\", \"extends\", \"extreme\", \"faculty\", \"failure\", \"familiar\", \"fantasy\",\n",
        "    \"farmers\", \"fashion\", \"feature\", \"feeding\", \"feeling\", \"fiction\", \"fighter\", \"figures\",\n",
        "    \"finally\", \"finance\", \"finding\", \"fitness\", \"flavor\", \"flexible\", \"flowers\", \"focused\",\n",
        "    \"follows\", \"foreign\", \"forests\", \"forever\", \"formula\", \"fortune\", \"forward\", \"founder\",\n",
        "    \"freedom\", \"friends\", \"further\", \"gallery\", \"general\", \"genetic\", \"gesture\", \"getting\",\n",
        "    \"glacier\", \"glances\", \"glowing\", \"goodbye\", \"gorilla\", \"grammar\", \"graphic\", \"gravity\",\n",
        "    \"greater\", \"growing\", \"guarded\", \"guiding\", \"habitat\", \"haircut\", \"hallway\", \"handful\",\n",
        "    \"handled\", \"hanging\", \"harmony\", \"heading\", \"healthy\", \"hearing\", \"heavily\", \"helpful\",\n",
        "    \"heroine\", \"highest\", \"himself\", \"history\", \"holding\", \"holiday\", \"honored\", \"horizon\",\n",
        "    \"hospital\", \"housing\", \"however\", \"hundred\", \"hunting\", \"husband\", \"illegal\", \"imagine\",\n",
        "    \"impress\", \"include\", \"increase\", \"indicate\", \"industry\", \"injured\", \"insight\", \"install\",\n",
        "    \"instant\", \"instead\", \"intense\", \"interact\", \"involve\", \"island\", \"journal\", \"journey\",\n",
        "    \"justice\", \"keeping\", \"kitchen\", \"knowing\", \"landing\", \"largely\", \"lasting\", \"leading\",\n",
        "    \"learner\", \"lecture\", \"legends\", \"lessons\", \"letters\", \"library\", \"lifting\", \"lightly\",\n",
        "    \"likewise\", \"limited\", \"linking\", \"listing\", \"located\", \"logical\", \"loyalty\", \"machine\",\n",
        "    \"magical\", \"manager\", \"managing\", \"markets\", \"marvel\", \"massive\", \"maximum\", \"meaning\",\n",
        "    \"measure\", \"medical\", \"meeting\", \"mention\", \"message\", \"million\", \"minimal\", \"minutes\",\n",
        "    \"miracle\", \"mission\", \"mistake\", \"mixtures\", \"modesty\", \"moment\", \"monster\", \"monthly\",\n",
        "    \"morning\", \"musical\", \"myself\", \"natural\", \"nearest\", \"neither\", \"network\", \"neutral\",\n",
        "    \"nothing\", \"noticed\", \"numbers\", \"objects\", \"observe\", \"obvious\", \"offered\", \"ongoing\",\n",
        "    \"opening\", \"operate\", \"opinion\", \"options\", \"organic\", \"outcome\", \"outdoor\", \"outline\",\n",
        "    \"outside\", \"overall\", \"package\", \"painter\", \"parents\", \"parking\", \"partial\", \"partner\",\n",
        "    \"passage\", \"patient\", \"pattern\", \"payment\", \"percent\", \"perfect\", \"perhaps\", \"period\",\n",
        "    \"permits\", \"person\", \"phantom\", \"physics\", \"picture\", \"pillars\", \"placing\", \"plastic\",\n",
        "    \"playing\", \"pleased\", \"plenty\", \"poetry\", \"police\", \"popular\", \"portion\", \"possess\",\n",
        "    \"posters\", \"pottery\", \"practice\", \"precise\", \"predict\", \"premise\", \"present\", \"prevent\",\n",
        "    \"primary\", \"printed\", \"privacy\", \"problem\", \"process\", \"produce\", \"product\", \"profile\",\n",
        "    \"program\", \"project\", \"promise\", \"promote\", \"protect\", \"provide\", \"purpose\", \"quality\",\n",
        "    \"quantity\", \"quarter\", \"question\", \"quickly\", \"quietly\", \"quizzes\", \"random\", \"reactor\",\n",
        "    \"reading\", \"reality\", \"receive\", \"records\", \"recover\", \"reflect\", \"regular\", \"related\",\n",
        "    \"release\", \"remains\", \"remarks\", \"removal\", \"replace\", \"request\", \"require\", \"reserve\",\n",
        "    \"resolve\", \"respect\", \"respond\", \"restore\", \"results\", \"retired\", \"return\", \"revenue\",\n",
        "    \"reverse\", \"review\", \"reward\", \"rhythm\", \"ribbon\", \"riches\", \"rising\", \"ritual\", \"rivers\",\n",
        "    \"rolling\", \"romance\", \"routine\", \"running\", \"safety\", \"salmon\", \"samples\", \"satisfy\",\n",
        "    \"scenery\", \"science\", \"seconds\", \"section\", \"seeking\", \"selling\", \"sending\", \"serious\",\n",
        "    \"service\", \"setting\", \"several\", \"shadows\", \"sharing\", \"shelter\", \"signals\", \"silence\",\n",
        "    \"similar\", \"sincere\", \"singing\", \"situate\", \"skilled\", \"slight\", \"smooth\", \"society\",\n",
        "    \"software\", \"soldier\", \"solution\", \"somehow\", \"someone\", \"species\", \"spending\", \"spirit\",\n",
        "    \"sponsor\", \"springs\", \"square\", \"stadium\", \"starting\", \"station\", \"staying\", \"storage\",\n",
        "    \"stories\", \"strange\", \"strength\", \"student\", \"studios\", \"subject\", \"success\", \"suggest\",\n",
        "    \"summary\", \"support\", \"supreme\", \"surface\", \"surplus\", \"survive\", \"suspect\", \"symbols\",\n",
        "    \"systems\", \"talking\", \"teacher\", \"temples\", \"tension\", \"testing\", \"texture\", \"theater\",\n",
        "    \"therapy\", \"thinking\", \"thought\", \"through\", \"tickets\", \"timber\", \"titles\", \"tonight\",\n",
        "    \"toolbox\", \"tourism\", \"traffic\", \"training\", \"transfer\", \"treason\", \"tribute\", \"trouble\",\n",
        "    \"turning\", \"typical\", \"umbrella\", \"unknown\", \"unusual\", \"updates\", \"utility\", \"vacation\",\n",
        "    \"valleys\", \"variety\", \"various\", \"vehicle\", \"version\", \"victory\", \"viewers\", \"village\",\n",
        "    \"violent\", \"visible\", \"waiting\", \"walking\", \"wanting\", \"warning\", \"wealthy\", \"weather\",\n",
        "    \"wedding\", \"weekend\", \"welcome\", \"western\", \"whatever\", \"whisper\", \"winners\", \"wishing\",\n",
        "    \"without\", \"witness\", \"working\", \"writing\", \"younger\"\n",
        "]"
      ],
      "metadata": {
        "id": "6BkLjtMIfw1M"
      },
      "execution_count": null,
      "outputs": []
    },
    {
      "cell_type": "code",
      "source": [
        "def get_valid_word():\n",
        "  word = random.choice(common_words)\n",
        "  while '-' in word or ' ' in word:\n",
        "    word = random.choice(common_words)\n",
        "  return word"
      ],
      "metadata": {
        "id": "Vu8KN9I8fzM_"
      },
      "execution_count": null,
      "outputs": []
    },
    {
      "cell_type": "code",
      "source": [
        "def hangman():\n",
        "  word = get_valid_word().upper()\n",
        "  word_letters = set(word)\n",
        "  alphabet = set(string.ascii_uppercase)\n",
        "  used_letters = set()\n",
        "  lives = 7\n",
        "  while len(word_letters) > 0 and lives > 0:\n",
        "    print(f\"\"\"You have {lives} lives left\n",
        "    and you have used these letters: \"\"\", \" \".join(used_letters))\n",
        "    word_list = [letter if letter in used_letters else \"-\" for letter in word]\n",
        "    print(\"Current word: \", \" \".join(word_list))\n",
        "    user_letter = input(\"Guess a letter: \").upper()\n",
        "    if user_letter in alphabet - used_letters:\n",
        "      used_letters.add(user_letter)\n",
        "      if user_letter in word_letters:\n",
        "        word_letters.remove(user_letter)\n",
        "      else:\n",
        "        lives = lives - 1\n",
        "        print(\"Letter is not in the Word\")\n",
        "    elif user_letter in used_letters:\n",
        "      print(\"You have already guessed that character. Please try again.\")\n",
        "    else:\n",
        "      print(\"Invalid character. Please try again.\")\n",
        "  if lives  == 0:\n",
        "    print(f\"You died, Sorry. The word was {word}\")\n",
        "  else:\n",
        "    print(\"You guessed the right word\", word, \"!!\")\n"
      ],
      "metadata": {
        "id": "bgV0GPNxhuAn"
      },
      "execution_count": null,
      "outputs": []
    },
    {
      "cell_type": "code",
      "source": [
        "hangman()"
      ],
      "metadata": {
        "id": "MV8dmBqYk401"
      },
      "execution_count": null,
      "outputs": []
    }
  ]
}